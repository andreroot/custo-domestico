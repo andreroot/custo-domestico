{
 "cells": [
  {
   "cell_type": "code",
   "execution_count": 3,
   "source": [
    "import pandas as pd\n",
    "import numpy as np\n",
    "import datetime as dt\n",
    "import os"
   ],
   "outputs": [],
   "metadata": {}
  },
  {
   "cell_type": "code",
   "execution_count": 4,
   "source": [
    "print(os.path)"
   ],
   "outputs": [
    {
     "output_type": "stream",
     "name": "stdout",
     "text": [
      "<module 'posixpath' from '/usr/lib/python3.6/posixpath.py'>\n"
     ]
    }
   ],
   "metadata": {}
  },
  {
   "cell_type": "code",
   "execution_count": 7,
   "source": [
    "df_lista = pd.read_excel('~/Documents/b2w/particular/github/custo-domestico/proj-local/csv/domestico/excel/lista_compras.xls', sheet_name='lista', usecols = \"A,B,C,D,E,F,G,H,I,J,K\") "
   ],
   "outputs": [],
   "metadata": {}
  },
  {
   "cell_type": "code",
   "execution_count": 9,
   "source": [
    "df_lista.columns = [\"item\",\"codigo\",\"descricao\",\"tipo_unid\",\"qtd\",\"vl_unitario\",\"vl_item\",\"forma_pagamento\",\"valor_total\",\"data_compra\",\"mercado\"]"
   ],
   "outputs": [],
   "metadata": {}
  },
  {
   "cell_type": "code",
   "execution_count": 10,
   "source": [
    "df_lista['mes_ano'] = df_lista['data_compra'].str.extract(r'(\\/[0-9]+\\/+[0-9]+)')#.strftime(\"%Y\")"
   ],
   "outputs": [],
   "metadata": {}
  },
  {
   "cell_type": "code",
   "execution_count": 15,
   "source": [
    "df_lista['mes_ano'].head"
   ],
   "outputs": [
    {
     "output_type": "execute_result",
     "data": {
      "text/plain": [
       "<bound method NDFrame.head of 0       /09/2021\n",
       "1       /09/2021\n",
       "2       /09/2021\n",
       "3       /09/2021\n",
       "4       /09/2021\n",
       "          ...   \n",
       "1042    /01/2022\n",
       "1043    /01/2022\n",
       "1044    /01/2022\n",
       "1045    /01/2022\n",
       "1046    /01/2022\n",
       "Name: mes_ano, Length: 1047, dtype: object>"
      ]
     },
     "metadata": {},
     "execution_count": 15
    }
   ],
   "metadata": {}
  },
  {
   "cell_type": "code",
   "execution_count": 18,
   "source": [
    "mes_ano = '/09/2021'"
   ],
   "outputs": [],
   "metadata": {}
  },
  {
   "cell_type": "code",
   "execution_count": 19,
   "source": [
    "len(mes_ano)"
   ],
   "outputs": [
    {
     "output_type": "execute_result",
     "data": {
      "text/plain": [
       "8"
      ]
     },
     "metadata": {},
     "execution_count": 19
    }
   ],
   "metadata": {}
  },
  {
   "cell_type": "code",
   "execution_count": 23,
   "source": [
    "print(mes_ano[1:3],print(mes_ano[4:8]))"
   ],
   "outputs": [
    {
     "output_type": "stream",
     "name": "stdout",
     "text": [
      "021\n",
      "09 None\n"
     ]
    }
   ],
   "metadata": {}
  },
  {
   "cell_type": "code",
   "execution_count": 12,
   "source": [
    "df_lista['dt_mes_base'] = df_lista['mes_ano'].apply(lambda x: dt.datetime(year=int(x[4:7]),month=int(x[1:3]), day=1) )"
   ],
   "outputs": [],
   "metadata": {}
  },
  {
   "cell_type": "code",
   "execution_count": 14,
   "source": [
    "df_lista['dt_mes_base'].head"
   ],
   "outputs": [
    {
     "output_type": "execute_result",
     "data": {
      "text/plain": [
       "<bound method NDFrame.head of 0       0202-09-01 00:00:00\n",
       "1       0202-09-01 00:00:00\n",
       "2       0202-09-01 00:00:00\n",
       "3       0202-09-01 00:00:00\n",
       "4       0202-09-01 00:00:00\n",
       "               ...         \n",
       "1042    0202-01-01 00:00:00\n",
       "1043    0202-01-01 00:00:00\n",
       "1044    0202-01-01 00:00:00\n",
       "1045    0202-01-01 00:00:00\n",
       "1046    0202-01-01 00:00:00\n",
       "Name: dt_mes_base, Length: 1047, dtype: object>"
      ]
     },
     "metadata": {},
     "execution_count": 14
    }
   ],
   "metadata": {}
  }
 ],
 "metadata": {
  "orig_nbformat": 4,
  "language_info": {
   "name": "python",
   "version": "3.6.9",
   "mimetype": "text/x-python",
   "codemirror_mode": {
    "name": "ipython",
    "version": 3
   },
   "pygments_lexer": "ipython3",
   "nbconvert_exporter": "python",
   "file_extension": ".py"
  },
  "kernelspec": {
   "name": "python3",
   "display_name": "Python 3.6.9 64-bit ('ENV': venv)"
  },
  "interpreter": {
   "hash": "650cce65e1831fc5af89543c6d79f64a784d5529611dd957101ae90267911f56"
  }
 },
 "nbformat": 4,
 "nbformat_minor": 2
}